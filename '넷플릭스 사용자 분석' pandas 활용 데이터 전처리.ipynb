{
 "cells": [
  {
   "cell_type": "markdown",
   "id": "1649754e",
   "metadata": {},
   "source": [
    "# 1. 기본셋팅"
   ]
  },
  {
   "cell_type": "code",
   "execution_count": 10,
   "id": "6cd42fa2",
   "metadata": {},
   "outputs": [],
   "source": [
    "import pandas as pd\n",
    "import numpy as np"
   ]
  },
  {
   "cell_type": "code",
   "execution_count": 11,
   "id": "d494736f",
   "metadata": {},
   "outputs": [],
   "source": [
    "table_raw = pd.read_csv('./Netflix Userbase.csv',)"
   ]
  },
  {
   "cell_type": "code",
   "execution_count": 12,
   "id": "66a75487",
   "metadata": {
    "scrolled": true
   },
   "outputs": [
    {
     "data": {
      "text/html": [
       "<div>\n",
       "<style scoped>\n",
       "    .dataframe tbody tr th:only-of-type {\n",
       "        vertical-align: middle;\n",
       "    }\n",
       "\n",
       "    .dataframe tbody tr th {\n",
       "        vertical-align: top;\n",
       "    }\n",
       "\n",
       "    .dataframe thead th {\n",
       "        text-align: right;\n",
       "    }\n",
       "</style>\n",
       "<table border=\"1\" class=\"dataframe\">\n",
       "  <thead>\n",
       "    <tr style=\"text-align: right;\">\n",
       "      <th></th>\n",
       "      <th>User ID</th>\n",
       "      <th>Subscription Type</th>\n",
       "      <th>Monthly Revenue</th>\n",
       "      <th>Join Date</th>\n",
       "      <th>Last Payment Date</th>\n",
       "      <th>Country</th>\n",
       "      <th>Age</th>\n",
       "      <th>Gender</th>\n",
       "      <th>Device</th>\n",
       "      <th>Plan Duration</th>\n",
       "    </tr>\n",
       "  </thead>\n",
       "  <tbody>\n",
       "    <tr>\n",
       "      <th>0</th>\n",
       "      <td>1</td>\n",
       "      <td>Basic</td>\n",
       "      <td>10</td>\n",
       "      <td>15-01-22</td>\n",
       "      <td>10-06-23</td>\n",
       "      <td>United States</td>\n",
       "      <td>28</td>\n",
       "      <td>Male</td>\n",
       "      <td>Smartphone</td>\n",
       "      <td>1 Month</td>\n",
       "    </tr>\n",
       "    <tr>\n",
       "      <th>1</th>\n",
       "      <td>2</td>\n",
       "      <td>Premium</td>\n",
       "      <td>15</td>\n",
       "      <td>05-09-21</td>\n",
       "      <td>22-06-23</td>\n",
       "      <td>Canada</td>\n",
       "      <td>35</td>\n",
       "      <td>Female</td>\n",
       "      <td>Tablet</td>\n",
       "      <td>1 Month</td>\n",
       "    </tr>\n",
       "    <tr>\n",
       "      <th>2</th>\n",
       "      <td>3</td>\n",
       "      <td>Standard</td>\n",
       "      <td>12</td>\n",
       "      <td>28-02-23</td>\n",
       "      <td>27-06-23</td>\n",
       "      <td>United Kingdom</td>\n",
       "      <td>42</td>\n",
       "      <td>Male</td>\n",
       "      <td>Smart TV</td>\n",
       "      <td>1 Month</td>\n",
       "    </tr>\n",
       "    <tr>\n",
       "      <th>3</th>\n",
       "      <td>4</td>\n",
       "      <td>Standard</td>\n",
       "      <td>12</td>\n",
       "      <td>10-07-22</td>\n",
       "      <td>26-06-23</td>\n",
       "      <td>Australia</td>\n",
       "      <td>51</td>\n",
       "      <td>Female</td>\n",
       "      <td>Laptop</td>\n",
       "      <td>1 Month</td>\n",
       "    </tr>\n",
       "    <tr>\n",
       "      <th>4</th>\n",
       "      <td>5</td>\n",
       "      <td>Basic</td>\n",
       "      <td>10</td>\n",
       "      <td>01-05-23</td>\n",
       "      <td>28-06-23</td>\n",
       "      <td>Germany</td>\n",
       "      <td>33</td>\n",
       "      <td>Male</td>\n",
       "      <td>Smartphone</td>\n",
       "      <td>1 Month</td>\n",
       "    </tr>\n",
       "  </tbody>\n",
       "</table>\n",
       "</div>"
      ],
      "text/plain": [
       "   User ID Subscription Type  Monthly Revenue Join Date Last Payment Date  \\\n",
       "0        1             Basic               10  15-01-22          10-06-23   \n",
       "1        2           Premium               15  05-09-21          22-06-23   \n",
       "2        3          Standard               12  28-02-23          27-06-23   \n",
       "3        4          Standard               12  10-07-22          26-06-23   \n",
       "4        5             Basic               10  01-05-23          28-06-23   \n",
       "\n",
       "          Country  Age  Gender      Device Plan Duration  \n",
       "0   United States   28    Male  Smartphone       1 Month  \n",
       "1          Canada   35  Female      Tablet       1 Month  \n",
       "2  United Kingdom   42    Male    Smart TV       1 Month  \n",
       "3       Australia   51  Female      Laptop       1 Month  \n",
       "4         Germany   33    Male  Smartphone       1 Month  "
      ]
     },
     "execution_count": 12,
     "metadata": {},
     "output_type": "execute_result"
    }
   ],
   "source": [
    "table_raw.head()"
   ]
  },
  {
   "cell_type": "markdown",
   "id": "0c5aeef3",
   "metadata": {},
   "source": [
    "## raw data는 남겨두고 복사본으로 정제  "
   ]
  },
  {
   "cell_type": "code",
   "execution_count": 13,
   "id": "4812491e",
   "metadata": {},
   "outputs": [],
   "source": [
    "table = table_raw.copy()"
   ]
  },
  {
   "cell_type": "markdown",
   "id": "1b300a40",
   "metadata": {},
   "source": [
    "# 2. 날짜 형식 변경하기"
   ]
  },
  {
   "cell_type": "markdown",
   "id": "704b756b",
   "metadata": {},
   "source": [
    "## Join Date와 Last Payment Date 열의 데이터를 datetime 형식으로 변환"
   ]
  },
  {
   "cell_type": "code",
   "execution_count": 16,
   "id": "5e789d25",
   "metadata": {},
   "outputs": [],
   "source": [
    "table['Join Date'] = pd.to_datetime(table['Join Date'])\n",
    "table['Last Payment Date'] = pd.to_datetime(table['Last Payment Date'])"
   ]
  },
  {
   "cell_type": "markdown",
   "id": "ac6998c5",
   "metadata": {},
   "source": [
    "## Join Date와 Last Payment Date 열의 데이터를 yyyy-mm-dd 형식으로 변환"
   ]
  },
  {
   "cell_type": "code",
   "execution_count": 17,
   "id": "dd02c587",
   "metadata": {},
   "outputs": [],
   "source": [
    "table['Join Date'] = table['Join Date'].dt.strftime('%Y-%m-%d')\n",
    "table['Last Payment Date'] = table['Last Payment Date'].dt.strftime('%Y-%m-%d')"
   ]
  },
  {
   "cell_type": "markdown",
   "id": "a90c56da",
   "metadata": {},
   "source": [
    "# 3. 결측 값 제거하기"
   ]
  },
  {
   "cell_type": "markdown",
   "id": "3d79a285",
   "metadata": {},
   "source": [
    "### Monthly Revenue 확인"
   ]
  },
  {
   "cell_type": "code",
   "execution_count": 24,
   "id": "72cd20fb",
   "metadata": {},
   "outputs": [],
   "source": [
    "null_count = table['Monthly Revenue'].isnull().sum()"
   ]
  },
  {
   "cell_type": "code",
   "execution_count": 25,
   "id": "9e5ff852",
   "metadata": {},
   "outputs": [
    {
     "name": "stdout",
     "output_type": "stream",
     "text": [
      "결측값 개수: 0\n"
     ]
    }
   ],
   "source": [
    "print(\"결측값 개수:\", null_count)"
   ]
  },
  {
   "cell_type": "markdown",
   "id": "e94b878e",
   "metadata": {},
   "source": [
    "# 내보내기"
   ]
  },
  {
   "cell_type": "code",
   "execution_count": 26,
   "id": "f9862af6",
   "metadata": {},
   "outputs": [],
   "source": [
    "table.to_csv('netflix_userbase_dataset.csv', index=False)"
   ]
  },
  {
   "cell_type": "code",
   "execution_count": null,
   "id": "bba8742b",
   "metadata": {},
   "outputs": [],
   "source": []
  }
 ],
 "metadata": {
  "kernelspec": {
   "display_name": "Python 3 (ipykernel)",
   "language": "python",
   "name": "python3"
  },
  "language_info": {
   "codemirror_mode": {
    "name": "ipython",
    "version": 3
   },
   "file_extension": ".py",
   "mimetype": "text/x-python",
   "name": "python",
   "nbconvert_exporter": "python",
   "pygments_lexer": "ipython3",
   "version": "3.11.4"
  }
 },
 "nbformat": 4,
 "nbformat_minor": 5
}
